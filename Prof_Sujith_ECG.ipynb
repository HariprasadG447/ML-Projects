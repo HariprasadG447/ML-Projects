{
  "nbformat": 4,
  "nbformat_minor": 0,
  "metadata": {
    "colab": {
      "provenance": [],
      "mount_file_id": "1ifXLdB29Fi9UDGRDuog09glHiF0YzqKI",
      "authorship_tag": "ABX9TyMdlnOtwONIyqINLN/gC30K",
      "include_colab_link": true
    },
    "kernelspec": {
      "name": "python3",
      "display_name": "Python 3"
    },
    "language_info": {
      "name": "python"
    }
  },
  "cells": [
    {
      "cell_type": "markdown",
      "metadata": {
        "id": "view-in-github",
        "colab_type": "text"
      },
      "source": [
        "<a href=\"https://colab.research.google.com/github/HariprasadG447/ML-Projects/blob/main/Prof_Sujith_ECG.ipynb\" target=\"_parent\"><img src=\"https://colab.research.google.com/assets/colab-badge.svg\" alt=\"Open In Colab\"/></a>"
      ]
    },
    {
      "cell_type": "code",
      "execution_count": 1,
      "metadata": {
        "id": "Bw75obsFlXYI",
        "colab": {
          "base_uri": "https://localhost:8080/"
        },
        "outputId": "c07a5596-a1e2-40d9-9493-cb6466a91da3"
      },
      "outputs": [
        {
          "output_type": "stream",
          "name": "stdout",
          "text": [
            "Drive already mounted at /content/drive; to attempt to forcibly remount, call drive.mount(\"/content/drive\", force_remount=True).\n"
          ]
        }
      ],
      "source": [
        "from google.colab import drive\n",
        "\n",
        "drive.mount('/content/drive')\n"
      ]
    },
    {
      "cell_type": "code",
      "source": [
        "!ls \"/content/drive/My Drive\"\n"
      ],
      "metadata": {
        "colab": {
          "base_uri": "https://localhost:8080/"
        },
        "id": "YCIhLZ8tmW8h",
        "outputId": "863533f0-81bb-460e-f12c-ac08f45f33bb"
      },
      "execution_count": 2,
      "outputs": [
        {
          "output_type": "stream",
          "name": "stdout",
          "text": [
            " 011021_Hariprasad.mp4\n",
            "'ACADS FUNDA.pdf'\n",
            " ae20b028-Aq1.pdf\n",
            " ae20b028-Aq2.pdf\n",
            " ae20b028-Aq3.pdf\n",
            " ae20b028-Bq1.pdf\n",
            " ae20b028-bQ2.pdf\n",
            " ae20b028-bQ3.pdf\n",
            " ae20b028-CQ1.pdf\n",
            "'ae20b028-CQ2 (1).pdf'\n",
            " ae20b028-CQ2.pdf\n",
            " ae20b028-DQ1.pdf\n",
            " ae20b028-DQ2.pdf\n",
            " AE20B028_instrumentation.pdf\n",
            "'Ae20b028-Part-A (1).pdf'\n",
            "'Ae20b028-Part-A (2).pdf'\n",
            "'Ae20b028-Part-A (3).pdf'\n",
            " Ae20b028-Part-A.pdf\n",
            " ae20b028-part-B.pdf\n",
            "'Aiming companies.gsheet'\n",
            "'Analytics and sustainability app'\n",
            " Aniradichita-MoU.gdoc\n",
            "'Annual budget.gsheet'\n",
            "'Annual financial data.gsheet'\n",
            " Applications\n",
            "'App questions.gdoc'\n",
            " AS2040-ODDS22-3.gdoc\n",
            " AS2040-ODDS22-3.pdf\n",
            "'A&S Apps.gsheet'\n",
            " asm_assign2.gslides\n",
            " Assignments\n",
            " Avionics.gdoc\n",
            " Batch_I\n",
            " books\n",
            "'budget hele-shaw.gsheet'\n",
            "'Business letter.gdoc'\n",
            " Card.gdoc\n",
            "'Cd values.gdoc'\n",
            "'CH_AE20B028_Hariprasad G.pdf'\n",
            " Classroom\n",
            "'Colab Notebooks'\n",
            "'Collimator design using parabolic mirrors.gdoc'\n",
            "'Consulting proposal.gslides'\n",
            "'Copy of 7 - [D].part6.rar'\n",
            "'Copy of Photography Competition - Descriptions.gdoc'\n",
            "'Copy of Propulsion Lab Data Sharing (1).gsheet'\n",
            "'Copy of Propulsion Lab Data Sharing (2).gsheet'\n",
            "'Copy of Propulsion Lab Data Sharing.gsheet'\n",
            "'Copy of Report Template.zip'\n",
            "'Copy of Ultimate DSA.gsheet'\n",
            "'Copy of Zubi Candy-MoU.docx'\n",
            "'Course proofs.pdf'\n",
            "'Creative_Spons&PR_G Hariprasad_AE20B028 (1).pdf'\n",
            "'Creative_Spons&PR_G Hariprasad_AE20B028.pdf'\n",
            "'Design of a TIR collimator lens system.gslides'\n",
            " Droom\n",
            "'Exoplanets Task AE20B028.pdf'\n",
            "'Exoplanets Task.gdoc'\n",
            "'Experiment set-up .gslides'\n",
            "'Freshie intro stage 2.gdoc'\n",
            "'Gn assignment ae20b028.pdf'\n",
            "'Group assignment.gslides'\n",
            "'Handbook Ideation.gsheet'\n",
            "'Hari deals.gsheet'\n",
            "'Hele-Shaw Apparatus and setup.gslides'\n",
            "'hohmann (1).ipynb'\n",
            " hohmann.gif\n",
            "'Horizon particle phy task AE20B028.pdf'\n",
            "'Horizon SS task Ae20b028.pdf'\n",
            "'Hostel fee payment receipts'\n",
            "'HUD project app'\n",
            " image.png\n",
            " IMG_20201005_130023__01__01__01.jpg\n",
            " IMG_20211222_073808.jpg\n",
            " IMG_20220115_105736__01__01.jpg\n",
            " IMG_3628.JPG\n",
            "'Important information for Batch I only.gdoc'\n",
            "'ind vs aus test trophy.jpg'\n",
            "'Instrumentation and communication (1).docx'\n",
            "'Instrumentation and communication.docx'\n",
            "'Instrumentation presentation (1).mp4'\n",
            "'Instrumentation presentation.gslides'\n",
            "'Instrumentation presentation.mp4'\n",
            " intern\n",
            " Josh\n",
            "'Kaggle ECG data'\n",
            "'Lecture recording (2021-05-13 at 01:07 GMT-7)'\n",
            "'Letter (1).gdoc'\n",
            "'Letter (2).gdoc'\n",
            " Letter.gdoc\n",
            "'lifeskills mind map.pdf'\n",
            "' Light Sheet Optics.gdoc'\n",
            "'Light Sheet Optics.gdoc'\n",
            "'Linux git tutorials commands.txt'\n",
            " logos\n",
            " MA2020\n",
            "'Mail interns.gdoc'\n",
            "'Mann press release.gdoc'\n",
            "'Mini test-1 ae20b028.pdf'\n",
            "'Mock mini test.pdf'\n",
            "'neutron star applicaton.pdf'\n",
            "'Non-Core Projects.pdf'\n",
            "'Open house.gslides'\n",
            "'Particle Image velocimetry (PIV).gslides'\n",
            "'Ph1020 endsem-1 faults.pdf'\n",
            "'Photography competition_AE20B028'\n",
            "'Photography Competition - Descriptions.docx'\n",
            "'Photography Competition - Descriptions.gdoc'\n",
            " Picz\n",
            "'pob endinng.wmv'\n",
            " PoBs\n",
            " POB.wmv\n",
            "'Podcast 3 draft.gdoc'\n",
            "'Project Review.gslides'\n",
            " Proof_fee_payment_15_Aug_2022.pdf\n",
            "'Qms App.gdoc'\n",
            "'Raftaar Q6 (1).docx'\n",
            "'Raftaar Q6.docx'\n",
            " raftar\n",
            " recording.wmv\n",
            " Resume\n",
            " Resume_chk\n",
            " Resume.gdoc\n",
            "'Resume HAL'\n",
            " resume_master_HariprasadG_AE20B028.pdf\n",
            "'Resume Proofs'\n",
            " Resume_RenaultNissan_Hariprasad.pdf\n",
            " saathi_app_AE20B028.pdf\n",
            "'Samsung Edge.gdoc'\n",
            "'Screen Recording (1-24-2021 4-45-28 PM).wmv'\n",
            " Screenshot_20220702-122247.jpg\n",
            "'Smart bed.gdoc'\n",
            "'STAR report ( on process).docx'\n",
            " Team_Ideators_Slides.pdf\n",
            "'Theme release treasure hunt.gdoc'\n",
            "'Ticket Sales Analysis.gdoc'\n",
            "'TIR curve angles.gsheet'\n",
            " TvsRPM.gdoc\n",
            "'Untitled document (1).gdoc'\n",
            "'Untitled document (2).gdoc'\n",
            "'Untitled document (3).gdoc'\n",
            "'Untitled document (4).gdoc'\n",
            "'Untitled document (5).gdoc'\n",
            "'Untitled document (6).gdoc'\n",
            "'Untitled document (7).gdoc'\n",
            "'Untitled document (8).gdoc'\n",
            "'Untitled document (9).gdoc'\n",
            "'Untitled document.gdoc'\n",
            "'Untitled form (1).gform'\n",
            "'Untitled form.gform'\n",
            "'Untitled presentation (1).gslides'\n",
            "'Untitled presentation.gslides'\n",
            "'Untitled spreadsheet (1).gsheet'\n",
            "'Untitled spreadsheet (2).gsheet'\n",
            "'Untitled spreadsheet (3).gsheet'\n",
            "'Untitled spreadsheet (4).gsheet'\n",
            "'Untitled spreadsheet (5).gsheet'\n",
            "'Untitled spreadsheet (6).gsheet'\n",
            "'Untitled spreadsheet.gsheet'\n",
            "'Vaccination Certificate'\n",
            "'Vyom meet 20th Sept 2022.gdoc'\n",
            "'Weekly report dated 21st March 2022.gdoc'\n",
            "'white cheeked barbet 3 (1 of 1).jpg'\n",
            "'Write up for WTC post.gdoc'\n",
            "'WS1302 Instrumentation_AE20B028 (1).docx'\n",
            "'WS1302 Instrumentation_AE20B028 (2).docx'\n",
            "'WS1302 Instrumentation_AE20B028.docx'\n",
            "'WS1302 Instrumentation_AE20B028.pdf'\n",
            "'Zubi Candy-MoU.docx'\n"
          ]
        }
      ]
    },
    {
      "cell_type": "code",
      "source": [
        "import os\n",
        "for dirname, _, filenames in os.walk('/content/drive/MyDrive/Kaggle ECG data'):\n",
        "    for filename in filenames:\n",
        "        print(os.path.join(dirname, filename))\n"
      ],
      "metadata": {
        "colab": {
          "base_uri": "https://localhost:8080/"
        },
        "id": "wHPFymIJFipJ",
        "outputId": "5c8d1232-c903-4002-c910-1450c999dba6"
      },
      "execution_count": 3,
      "outputs": [
        {
          "output_type": "stream",
          "name": "stdout",
          "text": [
            "/content/drive/MyDrive/Kaggle ECG data/ptbdb_normal.csv\n",
            "/content/drive/MyDrive/Kaggle ECG data/mitbih_test.csv\n",
            "/content/drive/MyDrive/Kaggle ECG data/mitbih_train.csv\n",
            "/content/drive/MyDrive/Kaggle ECG data/ptbdb_abnormal.csv\n"
          ]
        }
      ]
    },
    {
      "cell_type": "code",
      "source": [
        "import pandas as pd"
      ],
      "metadata": {
        "id": "12w9OkPsV3g-"
      },
      "execution_count": 4,
      "outputs": []
    },
    {
      "cell_type": "code",
      "source": [
        "mitbih_test=pd.read_csv('/content/drive/MyDrive/Kaggle ECG data/mitbih_test.csv',header=None)\n",
        "mitbih_train=pd.read_csv('/content/drive/MyDrive/Kaggle ECG data/mitbih_train.csv',header=None)\n",
        "print(mitbih_test.shape)\n",
        "print(mitbih_train.shape)"
      ],
      "metadata": {
        "colab": {
          "base_uri": "https://localhost:8080/"
        },
        "id": "r2_hdj3_mdv4",
        "outputId": "732a79c6-c0ac-4a45-f790-cd8e9d684e70"
      },
      "execution_count": 5,
      "outputs": [
        {
          "output_type": "stream",
          "name": "stdout",
          "text": [
            "(21892, 188)\n",
            "(87554, 188)\n"
          ]
        }
      ]
    },
    {
      "cell_type": "code",
      "source": [
        "from sklearn.utils import resample\n",
        "\n",
        "print(mitbih_train.shape)\n",
        "print(mitbih_test.shape)\n",
        "\n",
        "value_counts=mitbih_train.iloc[:,mitbih_train.shape[1]-1].value_counts()\n",
        "print(value_counts)\n",
        "\n",
        "mitbih_train_0=mitbih_train[mitbih_train.iloc[:,mitbih_train.shape[1]-1]==0]\n",
        "print(mitbih_train_0.shape)\n",
        "mitbih_train_1=mitbih_train[mitbih_train.iloc[:,mitbih_train.shape[1]-1]==1]\n",
        "print(mitbih_train_1.shape)\n",
        "mitbih_train_2=mitbih_train[mitbih_train.iloc[:,mitbih_train.shape[1]-1]==2]\n",
        "mitbih_train_3=mitbih_train[mitbih_train.iloc[:,mitbih_train.shape[1]-1]==3]\n",
        "mitbih_train_4=mitbih_train[mitbih_train.iloc[:,mitbih_train.shape[1]-1]==4]\n",
        "\n",
        "mitbih_train_1_upsample=resample(mitbih_train_1,replace=True,n_samples=mitbih_train_0.shape[0],random_state=123)\n",
        "print(mitbih_train_1_upsample.shape)\n",
        "mitbih_train_2_upsample=resample(mitbih_train_2,replace=True,n_samples=mitbih_train_0.shape[0],random_state=123)\n",
        "print(mitbih_train_2_upsample.shape)\n",
        "mitbih_train_3_upsample=resample(mitbih_train_3,replace=True,n_samples=mitbih_train_0.shape[0],random_state=123)\n",
        "print(mitbih_train_3_upsample.shape)\n",
        "mitbih_train_4_upsample=resample(mitbih_train_4,replace=True,n_samples=mitbih_train_0.shape[0],random_state=123)\n",
        "print(mitbih_train_4_upsample.shape)"
      ],
      "metadata": {
        "id": "glGpT0imWe-Q",
        "colab": {
          "base_uri": "https://localhost:8080/"
        },
        "outputId": "49bbd8eb-fe91-4fb5-823b-aadba7ab6730"
      },
      "execution_count": 6,
      "outputs": [
        {
          "output_type": "stream",
          "name": "stdout",
          "text": [
            "(87554, 188)\n",
            "(21892, 188)\n",
            "0.0    72471\n",
            "4.0     6431\n",
            "2.0     5788\n",
            "1.0     2223\n",
            "3.0      641\n",
            "Name: 187, dtype: int64\n",
            "(72471, 188)\n",
            "(2223, 188)\n",
            "(72471, 188)\n",
            "(72471, 188)\n",
            "(72471, 188)\n",
            "(72471, 188)\n"
          ]
        }
      ]
    },
    {
      "cell_type": "code",
      "source": [
        "import numpy as np"
      ],
      "metadata": {
        "id": "WqZy0TyM7mRA"
      },
      "execution_count": 8,
      "outputs": []
    },
    {
      "cell_type": "code",
      "source": [
        "mitbih_train_upsampled=np.concatenate((mitbih_train_0,mitbih_train_1_upsample,mitbih_train_2_upsample,mitbih_train_3_upsample,mitbih_train_4_upsample))\n",
        "mitbih_train_upsampled.shape\n",
        "\n",
        "mitbih_train_upsampled=pd.DataFrame(mitbih_train_upsampled)\n",
        "mitbih_train_upsampled.iloc[:,mitbih_train_upsampled.shape[1]-1].value_counts()"
      ],
      "metadata": {
        "colab": {
          "base_uri": "https://localhost:8080/"
        },
        "id": "J63LejSl5Wgc",
        "outputId": "9d40cd97-c3ed-4702-e969-a520cdeed898"
      },
      "execution_count": 9,
      "outputs": [
        {
          "output_type": "execute_result",
          "data": {
            "text/plain": [
              "0.0    72471\n",
              "1.0    72471\n",
              "2.0    72471\n",
              "3.0    72471\n",
              "4.0    72471\n",
              "Name: 187, dtype: int64"
            ]
          },
          "metadata": {},
          "execution_count": 9
        }
      ]
    },
    {
      "cell_type": "code",
      "source": [
        "y=mitbih_train_upsampled.iloc[:,mitbih_train_upsampled.shape[1]-1]\n",
        "X=mitbih_train_upsampled.iloc[:,0:(mitbih_train_upsampled.shape[1]-1)]\n",
        "print(X.shape)\n",
        "print(y)\n",
        "print(np.unique(y))\n",
        "\n",
        "print(X.shape,y.shape)\n",
        "\n"
      ],
      "metadata": {
        "colab": {
          "base_uri": "https://localhost:8080/"
        },
        "id": "GZTxfHas7hHX",
        "outputId": "7f606d05-e75d-4727-8064-95cc222cbf44"
      },
      "execution_count": 29,
      "outputs": [
        {
          "output_type": "stream",
          "name": "stdout",
          "text": [
            "(362355, 187)\n",
            "0         0.0\n",
            "1         0.0\n",
            "2         0.0\n",
            "3         0.0\n",
            "4         0.0\n",
            "         ... \n",
            "362350    4.0\n",
            "362351    4.0\n",
            "362352    4.0\n",
            "362353    4.0\n",
            "362354    4.0\n",
            "Name: 187, Length: 362355, dtype: float64\n",
            "[0. 1. 2. 3. 4.]\n",
            "(362355, 187) (362355,)\n"
          ]
        }
      ]
    },
    {
      "cell_type": "code",
      "source": [
        "from sklearn.model_selection import train_test_split\n",
        "x_train,x_test,y_train,y_test=train_test_split(X,y,test_size=0.2, random_state=42)\n",
        "print(x_train.shape)\n",
        "print(y_train.shape)\n",
        "print(x_test.shape)\n",
        "print(y_test.shape)\n",
        "print(np.sum(y_train)/len(y_train))\n",
        "print(np.sum(y_test)/len(y_test))"
      ],
      "metadata": {
        "colab": {
          "base_uri": "https://localhost:8080/"
        },
        "id": "D0sQJJxrVbNX",
        "outputId": "e21f4681-287b-4f0a-d500-e317243022ab"
      },
      "execution_count": 30,
      "outputs": [
        {
          "output_type": "stream",
          "name": "stdout",
          "text": [
            "(289884, 187)\n",
            "(289884,)\n",
            "(72471, 187)\n",
            "(72471,)\n",
            "1.9994377061169295\n",
            "2.002249175532282\n"
          ]
        }
      ]
    },
    {
      "cell_type": "code",
      "source": [
        "y_train"
      ],
      "metadata": {
        "colab": {
          "base_uri": "https://localhost:8080/"
        },
        "id": "sh0K-Qoc7vLE",
        "outputId": "a7e18f9b-1b72-4f87-a095-6b3d68de8f28"
      },
      "execution_count": 31,
      "outputs": [
        {
          "output_type": "execute_result",
          "data": {
            "text/plain": [
              "180012    2.0\n",
              "257469    3.0\n",
              "305088    4.0\n",
              "71024     0.0\n",
              "68827     0.0\n",
              "         ... \n",
              "119879    1.0\n",
              "259178    3.0\n",
              "131932    1.0\n",
              "146867    2.0\n",
              "121958    1.0\n",
              "Name: 187, Length: 289884, dtype: float64"
            ]
          },
          "metadata": {},
          "execution_count": 31
        }
      ]
    },
    {
      "cell_type": "code",
      "source": [
        "from sklearn.metrics import classification_report, confusion_matrix\n",
        "from sklearn.neighbors import KNeighborsClassifier as KNN\n",
        "from sklearn.metrics import accuracy_score as acc"
      ],
      "metadata": {
        "id": "c32Tm7_t-LNk"
      },
      "execution_count": 32,
      "outputs": []
    },
    {
      "cell_type": "code",
      "source": [
        "knn = KNN()\n",
        "knn.fit(x_train, y_train)"
      ],
      "metadata": {
        "colab": {
          "base_uri": "https://localhost:8080/"
        },
        "id": "t6EJxKUx-1Ws",
        "outputId": "6027d900-e9ee-4f9a-de4a-ecdded0b92dc"
      },
      "execution_count": 33,
      "outputs": [
        {
          "output_type": "execute_result",
          "data": {
            "text/plain": [
              "KNeighborsClassifier()"
            ]
          },
          "metadata": {},
          "execution_count": 33
        }
      ]
    },
    {
      "cell_type": "code",
      "source": [
        "print('Accuracy KNN: %f' % (acc(y_train[40000:42000], knn.predict(x_train[40000:42000]))))"
      ],
      "metadata": {
        "colab": {
          "base_uri": "https://localhost:8080/"
        },
        "id": "mRgz6hUQ-42J",
        "outputId": "345bc958-cfd8-46bb-cc1f-7694ae542128"
      },
      "execution_count": 34,
      "outputs": [
        {
          "output_type": "stream",
          "name": "stdout",
          "text": [
            "Accuracy KNN: 0.995500\n"
          ]
        }
      ]
    },
    {
      "cell_type": "code",
      "source": [
        "print('Accuracy KNN: %f' % (acc(y_test, knn.predict(x_test))))"
      ],
      "metadata": {
        "colab": {
          "base_uri": "https://localhost:8080/"
        },
        "id": "Iqtci29A-9p4",
        "outputId": "8d520e5c-deea-4672-cd8a-3aab099bc112"
      },
      "execution_count": 35,
      "outputs": [
        {
          "output_type": "stream",
          "name": "stdout",
          "text": [
            "Accuracy KNN: 0.994039\n"
          ]
        }
      ]
    },
    {
      "cell_type": "code",
      "source": [
        "np.round(x_train.shape[0]/5)"
      ],
      "metadata": {
        "colab": {
          "base_uri": "https://localhost:8080/"
        },
        "id": "0wEjsqYT_F8W",
        "outputId": "5be9ae83-a07f-48dd-f04c-96cf4022afa8"
      },
      "execution_count": 36,
      "outputs": [
        {
          "output_type": "execute_result",
          "data": {
            "text/plain": [
              "57977.0"
            ]
          },
          "metadata": {},
          "execution_count": 36
        }
      ]
    },
    {
      "cell_type": "code",
      "source": [
        "print('Example in class 0')\n",
        "print(y_test[y_test[y_test==0].index[0]])\n",
        "print('Example in class 1')\n",
        "print(y_test[y_test[y_test==1].index[0]])\n",
        "print('Example in class 2')\n",
        "print(y_test[y_test[y_test==2].index[0]])\n",
        "print('Example in class 3')\n",
        "print(y_test[y_test[y_test==3].index[0]])\n",
        "print('Example in class 4')\n",
        "print(y_test[y_test[y_test==4].index[0]])"
      ],
      "metadata": {
        "colab": {
          "base_uri": "https://localhost:8080/"
        },
        "id": "OxoH2tNZI1vC",
        "outputId": "b672d154-5949-4dff-ed4d-0ebbbea1c601"
      },
      "execution_count": 17,
      "outputs": [
        {
          "output_type": "stream",
          "name": "stdout",
          "text": [
            "Example in class 0\n",
            "0.0\n",
            "Example in class 1\n",
            "1.0\n",
            "Example in class 2\n",
            "2.0\n",
            "Example in class 3\n",
            "3.0\n",
            "Example in class 4\n",
            "4.0\n"
          ]
        }
      ]
    },
    {
      "cell_type": "code",
      "source": [
        "print(np.where(np.asarray(y_test)==0)[0][0])\n",
        "print(np.where(np.asarray(y_test)==1)[0][0])\n",
        "print(y_test.iloc[np.where(np.asarray(y_test)==1)[0][0]])\n",
        "x_test.iloc[[np.where(np.asarray(y_test)==1)[0][0]]]"
      ],
      "metadata": {
        "colab": {
          "base_uri": "https://localhost:8080/",
          "height": 226
        },
        "id": "dMQgPIHDI5qW",
        "outputId": "7de7ebb3-f161-4abe-c0ec-a1273d7c8881"
      },
      "execution_count": 24,
      "outputs": [
        {
          "output_type": "stream",
          "name": "stdout",
          "text": [
            "8\n",
            "7\n",
            "1.0\n"
          ]
        },
        {
          "output_type": "execute_result",
          "data": {
            "text/plain": [
              "             0         1         2    3         4         5         6    \\\n",
              "138724  0.778846  0.754808  0.201923  0.0  0.120192  0.177885  0.168269   \n",
              "\n",
              "             7         8       9    ...       177       178       179  \\\n",
              "138724  0.211538  0.240385  0.1875  ...  0.355769  0.365385  0.384615   \n",
              "\n",
              "             180       181       182       183       184       185       186  \n",
              "138724  0.370192  0.370192  0.384615  0.384615  0.360577  0.365385  0.384615  \n",
              "\n",
              "[1 rows x 187 columns]"
            ],
            "text/html": [
              "\n",
              "  <div id=\"df-7200f667-819e-4bbb-bea4-513b4a323a03\">\n",
              "    <div class=\"colab-df-container\">\n",
              "      <div>\n",
              "<style scoped>\n",
              "    .dataframe tbody tr th:only-of-type {\n",
              "        vertical-align: middle;\n",
              "    }\n",
              "\n",
              "    .dataframe tbody tr th {\n",
              "        vertical-align: top;\n",
              "    }\n",
              "\n",
              "    .dataframe thead th {\n",
              "        text-align: right;\n",
              "    }\n",
              "</style>\n",
              "<table border=\"1\" class=\"dataframe\">\n",
              "  <thead>\n",
              "    <tr style=\"text-align: right;\">\n",
              "      <th></th>\n",
              "      <th>0</th>\n",
              "      <th>1</th>\n",
              "      <th>2</th>\n",
              "      <th>3</th>\n",
              "      <th>4</th>\n",
              "      <th>5</th>\n",
              "      <th>6</th>\n",
              "      <th>7</th>\n",
              "      <th>8</th>\n",
              "      <th>9</th>\n",
              "      <th>...</th>\n",
              "      <th>177</th>\n",
              "      <th>178</th>\n",
              "      <th>179</th>\n",
              "      <th>180</th>\n",
              "      <th>181</th>\n",
              "      <th>182</th>\n",
              "      <th>183</th>\n",
              "      <th>184</th>\n",
              "      <th>185</th>\n",
              "      <th>186</th>\n",
              "    </tr>\n",
              "  </thead>\n",
              "  <tbody>\n",
              "    <tr>\n",
              "      <th>138724</th>\n",
              "      <td>0.778846</td>\n",
              "      <td>0.754808</td>\n",
              "      <td>0.201923</td>\n",
              "      <td>0.0</td>\n",
              "      <td>0.120192</td>\n",
              "      <td>0.177885</td>\n",
              "      <td>0.168269</td>\n",
              "      <td>0.211538</td>\n",
              "      <td>0.240385</td>\n",
              "      <td>0.1875</td>\n",
              "      <td>...</td>\n",
              "      <td>0.355769</td>\n",
              "      <td>0.365385</td>\n",
              "      <td>0.384615</td>\n",
              "      <td>0.370192</td>\n",
              "      <td>0.370192</td>\n",
              "      <td>0.384615</td>\n",
              "      <td>0.384615</td>\n",
              "      <td>0.360577</td>\n",
              "      <td>0.365385</td>\n",
              "      <td>0.384615</td>\n",
              "    </tr>\n",
              "  </tbody>\n",
              "</table>\n",
              "<p>1 rows × 187 columns</p>\n",
              "</div>\n",
              "      <button class=\"colab-df-convert\" onclick=\"convertToInteractive('df-7200f667-819e-4bbb-bea4-513b4a323a03')\"\n",
              "              title=\"Convert this dataframe to an interactive table.\"\n",
              "              style=\"display:none;\">\n",
              "        \n",
              "  <svg xmlns=\"http://www.w3.org/2000/svg\" height=\"24px\"viewBox=\"0 0 24 24\"\n",
              "       width=\"24px\">\n",
              "    <path d=\"M0 0h24v24H0V0z\" fill=\"none\"/>\n",
              "    <path d=\"M18.56 5.44l.94 2.06.94-2.06 2.06-.94-2.06-.94-.94-2.06-.94 2.06-2.06.94zm-11 1L8.5 8.5l.94-2.06 2.06-.94-2.06-.94L8.5 2.5l-.94 2.06-2.06.94zm10 10l.94 2.06.94-2.06 2.06-.94-2.06-.94-.94-2.06-.94 2.06-2.06.94z\"/><path d=\"M17.41 7.96l-1.37-1.37c-.4-.4-.92-.59-1.43-.59-.52 0-1.04.2-1.43.59L10.3 9.45l-7.72 7.72c-.78.78-.78 2.05 0 2.83L4 21.41c.39.39.9.59 1.41.59.51 0 1.02-.2 1.41-.59l7.78-7.78 2.81-2.81c.8-.78.8-2.07 0-2.86zM5.41 20L4 18.59l7.72-7.72 1.47 1.35L5.41 20z\"/>\n",
              "  </svg>\n",
              "      </button>\n",
              "      \n",
              "  <style>\n",
              "    .colab-df-container {\n",
              "      display:flex;\n",
              "      flex-wrap:wrap;\n",
              "      gap: 12px;\n",
              "    }\n",
              "\n",
              "    .colab-df-convert {\n",
              "      background-color: #E8F0FE;\n",
              "      border: none;\n",
              "      border-radius: 50%;\n",
              "      cursor: pointer;\n",
              "      display: none;\n",
              "      fill: #1967D2;\n",
              "      height: 32px;\n",
              "      padding: 0 0 0 0;\n",
              "      width: 32px;\n",
              "    }\n",
              "\n",
              "    .colab-df-convert:hover {\n",
              "      background-color: #E2EBFA;\n",
              "      box-shadow: 0px 1px 2px rgba(60, 64, 67, 0.3), 0px 1px 3px 1px rgba(60, 64, 67, 0.15);\n",
              "      fill: #174EA6;\n",
              "    }\n",
              "\n",
              "    [theme=dark] .colab-df-convert {\n",
              "      background-color: #3B4455;\n",
              "      fill: #D2E3FC;\n",
              "    }\n",
              "\n",
              "    [theme=dark] .colab-df-convert:hover {\n",
              "      background-color: #434B5C;\n",
              "      box-shadow: 0px 1px 3px 1px rgba(0, 0, 0, 0.15);\n",
              "      filter: drop-shadow(0px 1px 2px rgba(0, 0, 0, 0.3));\n",
              "      fill: #FFFFFF;\n",
              "    }\n",
              "  </style>\n",
              "\n",
              "      <script>\n",
              "        const buttonEl =\n",
              "          document.querySelector('#df-7200f667-819e-4bbb-bea4-513b4a323a03 button.colab-df-convert');\n",
              "        buttonEl.style.display =\n",
              "          google.colab.kernel.accessAllowed ? 'block' : 'none';\n",
              "\n",
              "        async function convertToInteractive(key) {\n",
              "          const element = document.querySelector('#df-7200f667-819e-4bbb-bea4-513b4a323a03');\n",
              "          const dataTable =\n",
              "            await google.colab.kernel.invokeFunction('convertToInteractive',\n",
              "                                                     [key], {});\n",
              "          if (!dataTable) return;\n",
              "\n",
              "          const docLinkHtml = 'Like what you see? Visit the ' +\n",
              "            '<a target=\"_blank\" href=https://colab.research.google.com/notebooks/data_table.ipynb>data table notebook</a>'\n",
              "            + ' to learn more about interactive tables.';\n",
              "          element.innerHTML = '';\n",
              "          dataTable['output_type'] = 'display_data';\n",
              "          await google.colab.output.renderOutput(dataTable, element);\n",
              "          const docLink = document.createElement('div');\n",
              "          docLink.innerHTML = docLinkHtml;\n",
              "          element.appendChild(docLink);\n",
              "        }\n",
              "      </script>\n",
              "    </div>\n",
              "  </div>\n",
              "  "
            ]
          },
          "metadata": {},
          "execution_count": 24
        }
      ]
    },
    {
      "cell_type": "code",
      "source": [
        "print('kNN prediction of sample in class 0')\n",
        "print(knn.predict_proba(np.asarray(x_test.iloc[[np.where(np.asarray(y_test)==0)[0][0]]])))\n",
        "print('kNN prediction of sample in class 1')\n",
        "print(knn.predict_proba(np.asarray(x_test.iloc[[np.where(np.asarray(y_test)==1)[0][0]]])))\n",
        "print('kNN prediction of sample in class 2')\n",
        "print(knn.predict_proba(np.asarray(x_test.iloc[[np.where(np.asarray(y_test)==2)[0][0]]])))\n",
        "print('kNN prediction of sample in class 3')\n",
        "print(knn.predict_proba(np.asarray(x_test.iloc[[np.where(np.asarray(y_test)==3)[0][0]]])))\n",
        "print('kNN prediction of sample in class 4')\n",
        "print(knn.predict_proba(np.asarray(x_test.iloc[[np.where(np.asarray(y_test)==4)[0][0]]])))"
      ],
      "metadata": {
        "colab": {
          "base_uri": "https://localhost:8080/"
        },
        "id": "U5o1aY0lI_I3",
        "outputId": "352f4a94-eb40-4079-d30d-1fda2d206d55"
      },
      "execution_count": 25,
      "outputs": [
        {
          "output_type": "stream",
          "name": "stdout",
          "text": [
            "kNN prediction of sample in class 0\n",
            "[[1. 0. 0. 0. 0.]]\n",
            "kNN prediction of sample in class 1\n",
            "[[0. 1. 0. 0. 0.]]\n",
            "kNN prediction of sample in class 2\n",
            "[[0. 0. 1. 0. 0.]]\n",
            "kNN prediction of sample in class 3\n",
            "[[0. 0. 0. 1. 0.]]\n",
            "kNN prediction of sample in class 4\n",
            "[[0. 0. 0. 0. 1.]]\n"
          ]
        }
      ]
    },
    {
      "cell_type": "code",
      "source": [
        "import matplotlib.pyplot as plt"
      ],
      "metadata": {
        "id": "CWoUxbswKN7C"
      },
      "execution_count": 26,
      "outputs": []
    },
    {
      "cell_type": "code",
      "source": [
        "plt.plot(x_test[y_test == 0].mean(), color='blue',\n",
        "        label='Mean of class 0')\n",
        "plt.plot(x_test[y_test == 1].mean(), color='yellow',\n",
        "        label='Mean of class 1')\n",
        "plt.plot(x_test[y_test == 2].mean(), color='green',\n",
        "        label='Mean of class 2')\n",
        "plt.plot(x_test[y_test == 3].mean(), color='red',\n",
        "        label='Mean of class 3')\n",
        "plt.plot(x_test[y_test == 4].mean(), color='purple',\n",
        "        label='Mean of class 4')\n",
        "plt.plot(np.asarray(x_test.iloc[[np.where(np.asarray(y_test)==0)[0][0]]]).reshape(187,1),color='black',label='Class 0 example')\n",
        "plt.legend()"
      ],
      "metadata": {
        "colab": {
          "base_uri": "https://localhost:8080/",
          "height": 282
        },
        "id": "6U_kM5tXKUfJ",
        "outputId": "33b43544-7ff7-47e1-bbed-42ec37b65770"
      },
      "execution_count": 27,
      "outputs": [
        {
          "output_type": "execute_result",
          "data": {
            "text/plain": [
              "<matplotlib.legend.Legend at 0x7f06448b95b0>"
            ]
          },
          "metadata": {},
          "execution_count": 27
        },
        {
          "output_type": "display_data",
          "data": {
            "text/plain": [
              "<Figure size 432x288 with 1 Axes>"
            ],
            "image/png": "[encoded data removed]"
          },
          "metadata": {
            "needs_background": "light"
          }
        }
      ]
    },
    {
      "cell_type": "code",
      "source": [
        "print(np.corrcoef(np.asarray(x_test.iloc[[np.where(np.asarray(y_test)==0)[0][0]]]).reshape(187,),x_test[y_test == 0].mean())[0][1])\n",
        "print(np.corrcoef(np.asarray(x_test.iloc[[np.where(np.asarray(y_test)==0)[0][0]]]).reshape(187,),x_test[y_test == 1].mean())[0][1])\n",
        "print(np.corrcoef(np.asarray(x_test.iloc[[np.where(np.asarray(y_test)==0)[0][0]]]).reshape(187,),x_test[y_test == 2].mean())[0][1])\n",
        "print(np.corrcoef(np.asarray(x_test.iloc[[np.where(np.asarray(y_test)==0)[0][0]]]).reshape(187,),x_test[y_test == 3].mean())[0][1])\n",
        "print(np.corrcoef(np.asarray(x_test.iloc[[np.where(np.asarray(y_test)==0)[0][0]]]).reshape(187,),x_test[y_test == 4].mean())[0][1])"
      ],
      "metadata": {
        "colab": {
          "base_uri": "https://localhost:8080/"
        },
        "id": "zaHMZlPBKZEp",
        "outputId": "d07d31c5-619d-4add-d73f-af9fce59e0b7"
      },
      "execution_count": 28,
      "outputs": [
        {
          "output_type": "stream",
          "name": "stdout",
          "text": [
            "0.6188923980547887\n",
            "0.5262740382550006\n",
            "0.4458045544099792\n",
            "0.5601266399048971\n",
            "0.4126523911223933\n"
          ]
        }
      ]
    },
    {
      "cell_type": "markdown",
      "source": [
        "Clearly highest correlation for class 0 is with class 0 elements"
      ],
      "metadata": {
        "id": "4UwGh4h9OSLJ"
      }
    }
  ]
}