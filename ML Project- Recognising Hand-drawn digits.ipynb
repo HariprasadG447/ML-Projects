{
 "cells": [
  {
   "cell_type": "markdown",
   "id": "b68aca3a",
   "metadata": {},
   "source": [
    "# Predicting Hand-written digit values using 3-layered neural network\n",
    "\n",
    "In this project, we train a model which predicts the values of hand-drawn numbers and prints the predicted value. The model is trained and tested using the MNIST dataset of hand-drawn digits."
   ]
  },
  {
   "cell_type": "markdown",
   "id": "30401ac2",
   "metadata": {},
   "source": [
    "## Importing the required libraries"
   ]
  },
  {
   "cell_type": "code",
   "execution_count": 167,
   "id": "db9910d1",
   "metadata": {},
   "outputs": [],
   "source": [
    "import os\n",
    "import cv2\n",
    "import numpy as np\n",
    "import matplotlib.pyplot as plt\n",
    "import tensorflow as tf\n",
    "import pandas as pd"
   ]
  },
  {
   "cell_type": "markdown",
   "id": "1c0af6af",
   "metadata": {},
   "source": [
    "## Loading the mnist dataset from local folder\n",
    "\n",
    "We load the mnist csv data stored in a local folder and split it into the training sets and test sets."
   ]
  },
  {
   "cell_type": "code",
   "execution_count": 168,
   "id": "8052dc15",
   "metadata": {},
   "outputs": [],
   "source": [
    "train = pd.read_csv(\"mnist_train.csv\")\n",
    "test = pd.read_csv(\"mnist_test.csv\")"
   ]
  },
  {
   "cell_type": "code",
   "execution_count": 169,
   "id": "517a9fbc",
   "metadata": {},
   "outputs": [
    {
     "data": {
      "text/plain": [
       "(60000, 784)"
      ]
     },
     "execution_count": 169,
     "metadata": {},
     "output_type": "execute_result"
    }
   ],
   "source": [
    "xtrain = train.drop([\"label\"],axis = 1)\n",
    "xtest = test.drop([\"label\"],axis = 1)\n",
    "ytrain = train[\"label\"]\n",
    "ytest = test[\"label\"]\n",
    "np.shape(xtrain)"
   ]
  },
  {
   "cell_type": "code",
   "execution_count": 170,
   "id": "cc37649b",
   "metadata": {},
   "outputs": [
    {
     "data": {
      "text/plain": [
       "(60000, 784)"
      ]
     },
     "execution_count": 170,
     "metadata": {},
     "output_type": "execute_result"
    }
   ],
   "source": [
    "np.shape(xtrain)"
   ]
  },
  {
   "cell_type": "markdown",
   "id": "71676e5e",
   "metadata": {},
   "source": [
    "## Normalizing the data\n",
    "\n",
    "We now normalize the training and test set data so that it becomes easier for the model to train the data. We use the inbuilt function in keras to do the normaization."
   ]
  },
  {
   "cell_type": "code",
   "execution_count": 171,
   "id": "69896c86",
   "metadata": {},
   "outputs": [],
   "source": [
    "xtrain = tf.keras.utils.normalize(xtrain,axis = 1)\n",
    "xtest = tf.keras.utils.normalize(xtest,axis = 1)"
   ]
  },
  {
   "cell_type": "markdown",
   "id": "41036f02",
   "metadata": {},
   "source": [
    "## Setting up the neural network model\n",
    "\n",
    "The neural network of the model used is composed of 3 layers with one hidden layer. The input and hidden layers are both of the same size and each unit of a layer connects each unit of the next layer. The output layer has 10 units corresponsing to the 10 digits we need to predict."
   ]
  },
  {
   "cell_type": "code",
   "execution_count": 180,
   "id": "70546709",
   "metadata": {},
   "outputs": [],
   "source": [
    "model = tf.keras.models.Sequential()\n",
    "model.add(tf.keras.layers.Dense(256, activation = 'relu'))\n",
    "model.add(tf.keras.layers.Dense(256, activation = 'relu'))\n",
    "model.add(tf.keras.layers.Dense(10, activation = 'softmax'))\n",
    "\n",
    "model.compile(optimizer='adam', loss = 'sparse_categorical_crossentropy', metrics = ['accuracy'])"
   ]
  },
  {
   "cell_type": "markdown",
   "id": "fb978d10",
   "metadata": {},
   "source": [
    "We now fit the model to the training set and save it."
   ]
  },
  {
   "cell_type": "code",
   "execution_count": 181,
   "id": "c2b63e32",
   "metadata": {},
   "outputs": [
    {
     "name": "stdout",
     "output_type": "stream",
     "text": [
      "Epoch 1/3\n",
      "1875/1875 [==============================] - 7s 3ms/step - loss: 0.2735 - accuracy: 0.9186\n",
      "Epoch 2/3\n",
      "1875/1875 [==============================] - 6s 3ms/step - loss: 0.1064 - accuracy: 0.9674\n",
      "Epoch 3/3\n",
      "1875/1875 [==============================] - 5s 2ms/step - loss: 0.0706 - accuracy: 0.9776\n",
      "INFO:tensorflow:Assets written to: Handwritten_digits_recognition.model\\assets\n"
     ]
    }
   ],
   "source": [
    "model.fit(xtrain,ytrain, epochs = 3)\n",
    "model.save('Handwritten_digits_recognition.model')"
   ]
  },
  {
   "cell_type": "markdown",
   "id": "b6d371da",
   "metadata": {},
   "source": [
    "## Loading the model and finding the accuracy and loss\n",
    "\n",
    "We now load the model and evaluate it. First we predict values with the test set and find the acuuracy and loss. "
   ]
  },
  {
   "cell_type": "code",
   "execution_count": 182,
   "id": "3a28a598",
   "metadata": {},
   "outputs": [],
   "source": [
    "trainedmodel = tf.keras.models.load_model('Handwritten_digits_recognition.model')\n"
   ]
  },
  {
   "cell_type": "code",
   "execution_count": 183,
   "id": "b74a1505",
   "metadata": {},
   "outputs": [
    {
     "name": "stdout",
     "output_type": "stream",
     "text": [
      "313/313 [==============================] - 1s 2ms/step - loss: 0.0754 - accuracy: 0.9771\n"
     ]
    }
   ],
   "source": [
    "loss,accuracy = model.evaluate(xtest,ytest)"
   ]
  },
  {
   "cell_type": "markdown",
   "id": "8ef5100e",
   "metadata": {},
   "source": [
    "##  Predicting the digits of hand-drawn images using MS paint\n",
    "\n",
    "Now, we import a few hand drawn images in MS paint of the same pixel count as that of the training set (28 x 28) and run the model to predict the values."
   ]
  },
  {
   "cell_type": "code",
   "execution_count": 198,
   "id": "c607f03d",
   "metadata": {},
   "outputs": [
    {
     "name": "stdout",
     "output_type": "stream",
     "text": [
      "1/1 [==============================] - 0s 16ms/step\n",
      "The digit is {2}\n"
     ]
    },
    {
     "data": {
      "image/png": "[encoded data removed]",
      "text/plain": [
       "<Figure size 432x288 with 1 Axes>"
      ]
     },
     "metadata": {
      "needs_background": "light"
     },
     "output_type": "display_data"
    }
   ],
   "source": [
    "img1 = cv2.imread(f\"digit2.png\")[:,:,0]\n",
    "img1 = np.invert(np.array([img1]))\n",
    "img = np.reshape(img1,(1,784))\n",
    "prediction = model.predict(img)\n",
    "print(\"The digit is\", {np.argmax(prediction)})\n",
    "plt.imshow(img1[0],cmap = plt.cm.binary)\n",
    "plt.show()"
   ]
  },
  {
   "cell_type": "code",
   "execution_count": 199,
   "id": "28c02f79",
   "metadata": {},
   "outputs": [
    {
     "name": "stdout",
     "output_type": "stream",
     "text": [
      "1/1 [==============================] - 0s 31ms/step\n",
      "[[0. 0. 0. 0. 0. 0. 1. 0. 0. 0.]]\n",
      "The digit is 6\n"
     ]
    },
    {
     "data": {
      "image/png": "[encoded data removed]",
      "text/plain": [
       "<Figure size 432x288 with 1 Axes>"
      ]
     },
     "metadata": {
      "needs_background": "light"
     },
     "output_type": "display_data"
    }
   ],
   "source": [
    "img1 = cv2.imread(f\"digit4org.png\")[:,:,0]\n",
    "img1 = np.invert(np.array([img1]))\n",
    "img = np.reshape(img1,(1,784))\n",
    "prediction1 = model.predict(img)\n",
    "print(prediction1)\n",
    "print(\"The digit is\", np.argmax(prediction1))\n",
    "plt.imshow(img1[0],cmap = plt.cm.binary)\n",
    "plt.show()"
   ]
  },
  {
   "cell_type": "code",
   "execution_count": 200,
   "id": "59b8b27c",
   "metadata": {},
   "outputs": [
    {
     "name": "stdout",
     "output_type": "stream",
     "text": [
      "1/1 [==============================] - 0s 42ms/step\n",
      "The digit is 5\n"
     ]
    },
    {
     "data": {
      "image/png": "[encoded data removed]",
      "text/plain": [
       "<Figure size 432x288 with 1 Axes>"
      ]
     },
     "metadata": {
      "needs_background": "light"
     },
     "output_type": "display_data"
    }
   ],
   "source": [
    "img1 = cv2.imread(f\"digit4.png\")[:,:,0]\n",
    "img1 = np.invert(np.array([img1]))\n",
    "img = np.reshape(img1,(1,784))\n",
    "prediction = model.predict(img)\n",
    "print(\"The digit is\", np.argmax(prediction))\n",
    "plt.imshow(img1[0],cmap = plt.cm.binary)\n",
    "plt.show()"
   ]
  },
  {
   "cell_type": "markdown",
   "id": "17596ad4",
   "metadata": {},
   "source": [
    "From the above case, we can see that our model is unable to predict digits when there are slight modifications such as a small rotation of the image. In the above test, the digit 6 has been rotated by a small angle and this caused the model to not predict the digit accurately. Therefore, a solution for this is that we can take each image in the training set and rotate them by different angles in order to train the computer to predict those images.\n"
   ]
  }
 ],
 "metadata": {
  "kernelspec": {
   "display_name": "Python 3 (ipykernel)",
   "language": "python",
   "name": "python3"
  },
  "language_info": {
   "codemirror_mode": {
    "name": "ipython",
    "version": 3
   },
   "file_extension": ".py",
   "mimetype": "text/x-python",
   "name": "python",
   "nbconvert_exporter": "python",
   "pygments_lexer": "ipython3",
   "version": "3.9.12"
  }
 },
 "nbformat": 4,
 "nbformat_minor": 5
}
